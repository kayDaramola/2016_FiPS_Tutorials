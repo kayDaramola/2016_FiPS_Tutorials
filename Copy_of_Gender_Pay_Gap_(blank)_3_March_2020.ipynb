{
  "nbformat": 4,
  "nbformat_minor": 0,
  "metadata": {
    "colab": {
      "name": "Copy of Gender Pay Gap (blank) - 3 March 2020",
      "provenance": [],
      "collapsed_sections": [],
      "toc_visible": true,
      "include_colab_link": true
    },
    "kernelspec": {
      "name": "python3",
      "display_name": "Python 3"
    }
  },
  "cells": [
    {
      "cell_type": "markdown",
      "metadata": {
        "id": "view-in-github",
        "colab_type": "text"
      },
      "source": [
        "<a href=\"https://colab.research.google.com/github/kayDaramola/2016_FiPS_Tutorials/blob/master/Copy_of_Gender_Pay_Gap_(blank)_3_March_2020.ipynb\" target=\"_parent\"><img src=\"https://colab.research.google.com/assets/colab-badge.svg\" alt=\"Open In Colab\"/></a>"
      ]
    },
    {
      "cell_type": "markdown",
      "metadata": {
        "id": "2drBkIOvC6Ob"
      },
      "source": [
        "![alt text](https://img.evbuc.com/https%3A%2F%2Fcdn.evbuc.com%2Fimages%2F104034756%2F64322285113%2F1%2Foriginal.20200619-092913?w=800&auto=format%2Ccompress&q=75&sharp=10&rect=0%2C0%2C1414%2C707&s=4d03b9d35e4f528174dce97e7fe082cf)\n"
      ]
    },
    {
      "cell_type": "markdown",
      "metadata": {
        "id": "FkMf9QuwYUWU"
      },
      "source": [
        "<a href=\"https://join.slack.com/t/hipyworkspace/shared_invite/zt-low3bw7m-MadIio9kpvkzXko0RomwHA\" target=\"_blank\"><img src=\"https://pentagram-production.imgix.net/618d5092-a542-4dae-bd27-a3afb4bcc12d/mb_slack_01.jpg?crop=edges&fit=crop&h=630&rect=0%2C74%2C3000%2C1872&w=1200\" alt=\"drawing\" width=\"250\"/></a><br>\n",
        "Click <a href=\"https://join.slack.com/t/hipyworkspace/shared_invite/zt-low3bw7m-MadIio9kpvkzXko0RomwHA\" target=\"_blank\">here</a> to contribute to join our vibrant Slack community."
      ]
    },
    {
      "cell_type": "markdown",
      "metadata": {
        "id": "GlZ0M9JAISM2"
      },
      "source": [
        "# Our Next Event\n",
        "\n",
        "<a href=\"https://www.eventbrite.co.uk/e/introduction-to-python-tickets-129306078963\" target=\"_blank\"><img src=\"https://img.evbuc.com/https%3A%2F%2Fcdn.evbuc.com%2Fimages%2F117818001%2F64322285113%2F1%2Foriginal.20191112-082435?w=800&auto=format%2Ccompress&q=75&sharp=10&rect=0%2C96%2C824%2C412&s=93efdf9adff8cd686a0caefb29683512\"></a>\n",
        "\n",
        "Tues 6 April. 3pm BST. Via Zoom.\n",
        "\n",
        "Click <a href=\"https://www.eventbrite.co.uk/e/introduction-to-python-tickets-129306078963\" target=\"_blank\">here</a> to register for this event\n",
        "\n",
        "Or watch the recording of a previous session <a href=\"https://youtu.be/qcrFhObjobw\" target=\"_blank\">here</a>.\n"
      ]
    },
    {
      "cell_type": "markdown",
      "metadata": {
        "id": "7WD-rAMSJqcM"
      },
      "source": [
        "<a href=\"https://open.spotify.com/playlist/7r1XPpt9xYayLoH6FWs4xT?si=nWTk5uLJQm6FkOIL2TupcA\" target=\"_blank\"><img src=\"https://www.scdn.co/i/_global/open-graph-default.png\" alt=\"drawing\" width=\"250\"/></a><br>\n",
        "Click <a href=\"https://open.spotify.com/playlist/7r1XPpt9xYayLoH6FWs4xT?si=nWTk5uLJQm6FkOIL2TupcA\" target=\"_blank\">here</a> to contribute to the event's Spotify playlist."
      ]
    },
    {
      "cell_type": "markdown",
      "metadata": {
        "id": "g3RTq0qCW1Qt"
      },
      "source": [
        "<a href=\"https://padlet.com/hipyliv/rrkuawconk2hbqyb\" target=\"_blank\"><img src=\"data:image/png;base64,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\" alt=\"drawing\" width=\"250\"/></a><br>\n",
        "\n",
        "Click <a href=\"https://padlet.com/hipyliv/rrkuawconk2hbqyb\" target=\"_blank\">here</a> to contribute to the event's Padlet."
      ]
    },
    {
      "cell_type": "markdown",
      "metadata": {
        "id": "E7OXR72bHkrn"
      },
      "source": [
        "# Aims and objectives\n",
        "\n",
        "\n",
        "*   Start writing Python code as quickly as humanly possible (even if you are an absolute beginner)\n",
        "*   Read and write data from files using Pandas\n",
        "+ Filter and manipulate data using Pandas\n",
        "+ Generate some basic plots using Matplotlib\n",
        "+ Do ALL of the above in the context of a real dataset and relevant dataset.\n",
        "\n",
        "\n",
        "\n"
      ]
    },
    {
      "cell_type": "markdown",
      "metadata": {
        "id": "M4huPNgSCYns"
      },
      "source": [
        "# Why are we using Google Colab?\n",
        "\n",
        "There are so many ways that you can write and compile Python. Google Colab is an environment very similar to a Jupyter Notebook. It allows you to run lines of Python in cells which is great for noodling around. \n",
        "\n",
        "For the purposes of this webinar Colab is ideal because no install is required. We can get you all coding along in moments using your web-browsers. Simply go to https://colab.research.google.com.\n",
        "\n",
        "If you want to compile and run Python locally on your PC/laptop then we recommend that you install the Anaconda distribution. Go to https://anaconda.com."
      ]
    },
    {
      "cell_type": "markdown",
      "metadata": {
        "id": "OUw6glTNFTvR"
      },
      "source": [
        "# Reading the data\n",
        "\n",
        "We are going to explore this year's UK Gender Pay Gap dataset provided by https://gender-pay-gap.service.gov.uk.\n",
        "\n"
      ]
    },
    {
      "cell_type": "code",
      "metadata": {
        "id": "uKckrqh8L3qL"
      },
      "source": [
        "# Let's import the pandas module\n",
        "import pandas as pd"
      ],
      "execution_count": null,
      "outputs": []
    },
    {
      "cell_type": "code",
      "metadata": {
        "id": "FDtjPWVyGwmR"
      },
      "source": [
        "# We can read the data direct from a url using Pandas\n",
        "# No need to download the file!\n",
        "\n",
        "# Here's the URL. If you hold 'CTRL/Cmd' and click on the hyperlink a .csv file\n",
        "# will download (you don't need to do this)\n",
        "url = \"https://gender-pay-gap.service.gov.uk/viewing/download-data/2017\"\n",
        "\n",
        "# Now lets read this data to a Pandas dataframe\n",
        "df = pd.read_csv(url)\n"
      ],
      "execution_count": null,
      "outputs": []
    },
    {
      "cell_type": "code",
      "metadata": {
        "id": "pqGvfDWgHqtf",
        "colab": {
          "base_uri": "https://localhost:8080/",
          "height": 586
        },
        "outputId": "ed5a41c9-02df-4b00-db86-ae0d345d83da"
      },
      "source": [
        "# To take a look at your data ...\r\n",
        "df.tail()"
      ],
      "execution_count": null,
      "outputs": [
        {
          "output_type": "execute_result",
          "data": {
            "text/html": [
              "<div>\n",
              "<style scoped>\n",
              "    .dataframe tbody tr th:only-of-type {\n",
              "        vertical-align: middle;\n",
              "    }\n",
              "\n",
              "    .dataframe tbody tr th {\n",
              "        vertical-align: top;\n",
              "    }\n",
              "\n",
              "    .dataframe thead th {\n",
              "        text-align: right;\n",
              "    }\n",
              "</style>\n",
              "<table border=\"1\" class=\"dataframe\">\n",
              "  <thead>\n",
              "    <tr style=\"text-align: right;\">\n",
              "      <th></th>\n",
              "      <th>EmployerName</th>\n",
              "      <th>Address</th>\n",
              "      <th>CompanyNumber</th>\n",
              "      <th>SicCodes</th>\n",
              "      <th>DiffMeanHourlyPercent</th>\n",
              "      <th>DiffMedianHourlyPercent</th>\n",
              "      <th>DiffMeanBonusPercent</th>\n",
              "      <th>DiffMedianBonusPercent</th>\n",
              "      <th>MaleBonusPercent</th>\n",
              "      <th>FemaleBonusPercent</th>\n",
              "      <th>MaleLowerQuartile</th>\n",
              "      <th>FemaleLowerQuartile</th>\n",
              "      <th>MaleLowerMiddleQuartile</th>\n",
              "      <th>FemaleLowerMiddleQuartile</th>\n",
              "      <th>MaleUpperMiddleQuartile</th>\n",
              "      <th>FemaleUpperMiddleQuartile</th>\n",
              "      <th>MaleTopQuartile</th>\n",
              "      <th>FemaleTopQuartile</th>\n",
              "      <th>CompanyLinkToGPGInfo</th>\n",
              "      <th>ResponsiblePerson</th>\n",
              "      <th>EmployerSize</th>\n",
              "      <th>CurrentName</th>\n",
              "      <th>SubmittedAfterTheDeadline</th>\n",
              "      <th>DueDate</th>\n",
              "      <th>DateSubmitted</th>\n",
              "    </tr>\n",
              "  </thead>\n",
              "  <tbody>\n",
              "    <tr>\n",
              "      <th>10560</th>\n",
              "      <td>ZPG PLC</td>\n",
              "      <td>The Cooperage, 5 Copper Row, London, England, ...</td>\n",
              "      <td>09005884</td>\n",
              "      <td>63120</td>\n",
              "      <td>27.8</td>\n",
              "      <td>17.5</td>\n",
              "      <td>39.9</td>\n",
              "      <td>46.9</td>\n",
              "      <td>84.1</td>\n",
              "      <td>84.9</td>\n",
              "      <td>49.2</td>\n",
              "      <td>50.8</td>\n",
              "      <td>56.7</td>\n",
              "      <td>43.3</td>\n",
              "      <td>63.5</td>\n",
              "      <td>36.5</td>\n",
              "      <td>78.5</td>\n",
              "      <td>21.5</td>\n",
              "      <td>http://www.ar17.zpg.co.uk/application/themes/d...</td>\n",
              "      <td>Lorraine Metcalf (Chief Talent Officer)</td>\n",
              "      <td>500 to 999</td>\n",
              "      <td>ZPG LIMITED</td>\n",
              "      <td>False</td>\n",
              "      <td>05/04/2018 00:00:00</td>\n",
              "      <td>15/02/2018 14:48:59</td>\n",
              "    </tr>\n",
              "    <tr>\n",
              "      <th>10561</th>\n",
              "      <td>ZURICH EMPLOYMENT SERVICES LIMITED</td>\n",
              "      <td>The Grange, Bishops Cleeve, Cheltenham, Glouce...</td>\n",
              "      <td>00243883</td>\n",
              "      <td>78300,\\n82990</td>\n",
              "      <td>30.0</td>\n",
              "      <td>33.7</td>\n",
              "      <td>54.4</td>\n",
              "      <td>50.3</td>\n",
              "      <td>94.4</td>\n",
              "      <td>95.5</td>\n",
              "      <td>35.0</td>\n",
              "      <td>65.0</td>\n",
              "      <td>39.0</td>\n",
              "      <td>61.0</td>\n",
              "      <td>53.0</td>\n",
              "      <td>47.0</td>\n",
              "      <td>73.0</td>\n",
              "      <td>27.0</td>\n",
              "      <td>https://www.zurich.co.uk/en/about-us/corporate...</td>\n",
              "      <td>Steve Collinson (Head of UK HR)</td>\n",
              "      <td>1000 to 4999</td>\n",
              "      <td>ZURICH EMPLOYMENT SERVICES LIMITED</td>\n",
              "      <td>False</td>\n",
              "      <td>05/04/2018 00:00:00</td>\n",
              "      <td>29/01/2018 10:52:37</td>\n",
              "    </tr>\n",
              "    <tr>\n",
              "      <th>10562</th>\n",
              "      <td>ZURICH UK GENERAL SERVICES LIMITED</td>\n",
              "      <td>The Zurich Centre 3000 Parkway, Whiteley, Fare...</td>\n",
              "      <td>03843124</td>\n",
              "      <td>82990</td>\n",
              "      <td>25.9</td>\n",
              "      <td>26.3</td>\n",
              "      <td>45.0</td>\n",
              "      <td>27.6</td>\n",
              "      <td>94.9</td>\n",
              "      <td>95.2</td>\n",
              "      <td>37.0</td>\n",
              "      <td>63.0</td>\n",
              "      <td>55.0</td>\n",
              "      <td>45.0</td>\n",
              "      <td>77.0</td>\n",
              "      <td>23.0</td>\n",
              "      <td>72.0</td>\n",
              "      <td>28.0</td>\n",
              "      <td>https://www.zurich.co.uk/en/about-us/corporate...</td>\n",
              "      <td>Steve Collinson (Head of UK HR)</td>\n",
              "      <td>1000 to 4999</td>\n",
              "      <td>ZURICH UK GENERAL SERVICES LIMITED</td>\n",
              "      <td>False</td>\n",
              "      <td>05/04/2018 00:00:00</td>\n",
              "      <td>29/01/2018 10:55:15</td>\n",
              "    </tr>\n",
              "    <tr>\n",
              "      <th>10563</th>\n",
              "      <td>ZUTO HOLDINGS LIMITED</td>\n",
              "      <td>Winterton House, Winterton Way, Macclesfield, ...</td>\n",
              "      <td>08563366</td>\n",
              "      <td>70100</td>\n",
              "      <td>25.0</td>\n",
              "      <td>30.0</td>\n",
              "      <td>43.0</td>\n",
              "      <td>49.0</td>\n",
              "      <td>65.0</td>\n",
              "      <td>74.0</td>\n",
              "      <td>42.0</td>\n",
              "      <td>58.0</td>\n",
              "      <td>61.0</td>\n",
              "      <td>39.0</td>\n",
              "      <td>74.0</td>\n",
              "      <td>26.0</td>\n",
              "      <td>81.0</td>\n",
              "      <td>19.0</td>\n",
              "      <td>https://www.zuto.com/gender-pay-report/</td>\n",
              "      <td>James Wilkinson (CEO)</td>\n",
              "      <td>250 to 499</td>\n",
              "      <td>ZUTO HOLDINGS LIMITED</td>\n",
              "      <td>False</td>\n",
              "      <td>05/04/2018 00:00:00</td>\n",
              "      <td>27/03/2018 10:44:14</td>\n",
              "    </tr>\n",
              "    <tr>\n",
              "      <th>10564</th>\n",
              "      <td>ZWANENBERG FOOD UK LIMITED</td>\n",
              "      <td>Station Road, Minsterley, Shrewsbury, Shropshi...</td>\n",
              "      <td>01032611</td>\n",
              "      <td>10110</td>\n",
              "      <td>22.0</td>\n",
              "      <td>6.0</td>\n",
              "      <td>93.0</td>\n",
              "      <td>22.0</td>\n",
              "      <td>46.0</td>\n",
              "      <td>44.0</td>\n",
              "      <td>49.0</td>\n",
              "      <td>51.0</td>\n",
              "      <td>61.0</td>\n",
              "      <td>39.0</td>\n",
              "      <td>66.0</td>\n",
              "      <td>34.0</td>\n",
              "      <td>71.0</td>\n",
              "      <td>29.0</td>\n",
              "      <td>NaN</td>\n",
              "      <td>Jonathan Ashmore (Managing Director)</td>\n",
              "      <td>500 to 999</td>\n",
              "      <td>ZWANENBERG FOOD GROUP UK LIMITED</td>\n",
              "      <td>True</td>\n",
              "      <td>05/04/2018 00:00:00</td>\n",
              "      <td>03/05/2018 14:52:28</td>\n",
              "    </tr>\n",
              "  </tbody>\n",
              "</table>\n",
              "</div>"
            ],
            "text/plain": [
              "                             EmployerName  ...        DateSubmitted\n",
              "10560                             ZPG PLC  ...  15/02/2018 14:48:59\n",
              "10561  ZURICH EMPLOYMENT SERVICES LIMITED  ...  29/01/2018 10:52:37\n",
              "10562  ZURICH UK GENERAL SERVICES LIMITED  ...  29/01/2018 10:55:15\n",
              "10563               ZUTO HOLDINGS LIMITED  ...  27/03/2018 10:44:14\n",
              "10564          ZWANENBERG FOOD UK LIMITED  ...  03/05/2018 14:52:28\n",
              "\n",
              "[5 rows x 25 columns]"
            ]
          },
          "metadata": {
            "tags": []
          },
          "execution_count": 9
        }
      ]
    },
    {
      "cell_type": "code",
      "metadata": {
        "id": "8-571OoZH2CK",
        "colab": {
          "base_uri": "https://localhost:8080/"
        },
        "outputId": "13f5ca2e-1efe-4237-ff1d-355008cd8f8b"
      },
      "source": [
        "# How many employers are there in this dataset?\r\n",
        "len(df)"
      ],
      "execution_count": null,
      "outputs": [
        {
          "output_type": "execute_result",
          "data": {
            "text/plain": [
              "10565"
            ]
          },
          "metadata": {
            "tags": []
          },
          "execution_count": 10
        }
      ]
    },
    {
      "cell_type": "code",
      "metadata": {
        "id": "LUkKrHVJKK62",
        "colab": {
          "base_uri": "https://localhost:8080/"
        },
        "outputId": "b5a4bb02-7310-4bce-e309-9ce08947f0c6"
      },
      "source": [
        "# What are the column names?\r\n",
        "df.columns.values"
      ],
      "execution_count": null,
      "outputs": [
        {
          "output_type": "execute_result",
          "data": {
            "text/plain": [
              "array(['EmployerName', 'Address', 'CompanyNumber', 'SicCodes',\n",
              "       'DiffMeanHourlyPercent', 'DiffMedianHourlyPercent',\n",
              "       'DiffMeanBonusPercent', 'DiffMedianBonusPercent',\n",
              "       'MaleBonusPercent', 'FemaleBonusPercent', 'MaleLowerQuartile',\n",
              "       'FemaleLowerQuartile', 'MaleLowerMiddleQuartile',\n",
              "       'FemaleLowerMiddleQuartile', 'MaleUpperMiddleQuartile',\n",
              "       'FemaleUpperMiddleQuartile', 'MaleTopQuartile',\n",
              "       'FemaleTopQuartile', 'CompanyLinkToGPGInfo', 'ResponsiblePerson',\n",
              "       'EmployerSize', 'CurrentName', 'SubmittedAfterTheDeadline',\n",
              "       'DueDate', 'DateSubmitted'], dtype=object)"
            ]
          },
          "metadata": {
            "tags": []
          },
          "execution_count": 11
        }
      ]
    },
    {
      "cell_type": "code",
      "metadata": {
        "id": "K3E4BmZqKw6M",
        "colab": {
          "base_uri": "https://localhost:8080/",
          "height": 314
        },
        "outputId": "42dab381-1387-4aac-ca9d-6ddafdf8c6fb"
      },
      "source": [
        "# What are the Descriptive Statistics (i.e. mean, median etc) for your dataframe?\r\n",
        "df.describe()"
      ],
      "execution_count": null,
      "outputs": [
        {
          "output_type": "execute_result",
          "data": {
            "text/html": [
              "<div>\n",
              "<style scoped>\n",
              "    .dataframe tbody tr th:only-of-type {\n",
              "        vertical-align: middle;\n",
              "    }\n",
              "\n",
              "    .dataframe tbody tr th {\n",
              "        vertical-align: top;\n",
              "    }\n",
              "\n",
              "    .dataframe thead th {\n",
              "        text-align: right;\n",
              "    }\n",
              "</style>\n",
              "<table border=\"1\" class=\"dataframe\">\n",
              "  <thead>\n",
              "    <tr style=\"text-align: right;\">\n",
              "      <th></th>\n",
              "      <th>DiffMeanHourlyPercent</th>\n",
              "      <th>DiffMedianHourlyPercent</th>\n",
              "      <th>DiffMeanBonusPercent</th>\n",
              "      <th>DiffMedianBonusPercent</th>\n",
              "      <th>MaleBonusPercent</th>\n",
              "      <th>FemaleBonusPercent</th>\n",
              "      <th>MaleLowerQuartile</th>\n",
              "      <th>FemaleLowerQuartile</th>\n",
              "      <th>MaleLowerMiddleQuartile</th>\n",
              "      <th>FemaleLowerMiddleQuartile</th>\n",
              "      <th>MaleUpperMiddleQuartile</th>\n",
              "      <th>FemaleUpperMiddleQuartile</th>\n",
              "      <th>MaleTopQuartile</th>\n",
              "      <th>FemaleTopQuartile</th>\n",
              "    </tr>\n",
              "  </thead>\n",
              "  <tbody>\n",
              "    <tr>\n",
              "      <th>count</th>\n",
              "      <td>10565.000000</td>\n",
              "      <td>10565.00000</td>\n",
              "      <td>10539.000000</td>\n",
              "      <td>10539.000000</td>\n",
              "      <td>10565.000000</td>\n",
              "      <td>10565.000000</td>\n",
              "      <td>10565.000000</td>\n",
              "      <td>10565.000000</td>\n",
              "      <td>10565.000000</td>\n",
              "      <td>10565.000000</td>\n",
              "      <td>10565.000000</td>\n",
              "      <td>10565.000000</td>\n",
              "      <td>10565.000000</td>\n",
              "      <td>10565.000000</td>\n",
              "    </tr>\n",
              "    <tr>\n",
              "      <th>mean</th>\n",
              "      <td>14.339801</td>\n",
              "      <td>11.79964</td>\n",
              "      <td>7.680805</td>\n",
              "      <td>-21.741579</td>\n",
              "      <td>35.397246</td>\n",
              "      <td>33.930961</td>\n",
              "      <td>46.330421</td>\n",
              "      <td>53.669579</td>\n",
              "      <td>50.525651</td>\n",
              "      <td>49.474349</td>\n",
              "      <td>54.870639</td>\n",
              "      <td>45.129361</td>\n",
              "      <td>60.811557</td>\n",
              "      <td>39.188443</td>\n",
              "    </tr>\n",
              "    <tr>\n",
              "      <th>std</th>\n",
              "      <td>14.910620</td>\n",
              "      <td>15.84330</td>\n",
              "      <td>833.769018</td>\n",
              "      <td>1400.233397</td>\n",
              "      <td>36.331459</td>\n",
              "      <td>36.015755</td>\n",
              "      <td>24.129189</td>\n",
              "      <td>24.129189</td>\n",
              "      <td>26.089625</td>\n",
              "      <td>26.089625</td>\n",
              "      <td>26.225797</td>\n",
              "      <td>26.225797</td>\n",
              "      <td>24.406092</td>\n",
              "      <td>24.406092</td>\n",
              "    </tr>\n",
              "    <tr>\n",
              "      <th>min</th>\n",
              "      <td>-400.000000</td>\n",
              "      <td>-196.50000</td>\n",
              "      <td>-82000.000000</td>\n",
              "      <td>-120695.000000</td>\n",
              "      <td>0.000000</td>\n",
              "      <td>0.000000</td>\n",
              "      <td>0.000000</td>\n",
              "      <td>0.000000</td>\n",
              "      <td>0.000000</td>\n",
              "      <td>0.000000</td>\n",
              "      <td>0.000000</td>\n",
              "      <td>0.000000</td>\n",
              "      <td>0.000000</td>\n",
              "      <td>0.000000</td>\n",
              "    </tr>\n",
              "    <tr>\n",
              "      <th>25%</th>\n",
              "      <td>5.000000</td>\n",
              "      <td>0.70000</td>\n",
              "      <td>0.000000</td>\n",
              "      <td>0.000000</td>\n",
              "      <td>0.800000</td>\n",
              "      <td>0.300000</td>\n",
              "      <td>27.000000</td>\n",
              "      <td>35.700000</td>\n",
              "      <td>29.500000</td>\n",
              "      <td>27.700000</td>\n",
              "      <td>34.000000</td>\n",
              "      <td>21.500000</td>\n",
              "      <td>41.500000</td>\n",
              "      <td>17.100000</td>\n",
              "    </tr>\n",
              "    <tr>\n",
              "      <th>50%</th>\n",
              "      <td>13.400000</td>\n",
              "      <td>9.30000</td>\n",
              "      <td>22.000000</td>\n",
              "      <td>5.100000</td>\n",
              "      <td>19.400000</td>\n",
              "      <td>17.200000</td>\n",
              "      <td>44.300000</td>\n",
              "      <td>55.700000</td>\n",
              "      <td>48.400000</td>\n",
              "      <td>51.600000</td>\n",
              "      <td>54.000000</td>\n",
              "      <td>46.000000</td>\n",
              "      <td>62.700000</td>\n",
              "      <td>37.300000</td>\n",
              "    </tr>\n",
              "    <tr>\n",
              "      <th>75%</th>\n",
              "      <td>22.900000</td>\n",
              "      <td>21.00000</td>\n",
              "      <td>53.000000</td>\n",
              "      <td>38.000000</td>\n",
              "      <td>73.200000</td>\n",
              "      <td>70.100000</td>\n",
              "      <td>64.300000</td>\n",
              "      <td>73.000000</td>\n",
              "      <td>72.300000</td>\n",
              "      <td>70.500000</td>\n",
              "      <td>78.500000</td>\n",
              "      <td>66.000000</td>\n",
              "      <td>82.900000</td>\n",
              "      <td>58.500000</td>\n",
              "    </tr>\n",
              "    <tr>\n",
              "      <th>max</th>\n",
              "      <td>159.000000</td>\n",
              "      <td>121.20000</td>\n",
              "      <td>3848.200000</td>\n",
              "      <td>3848.200000</td>\n",
              "      <td>100.000000</td>\n",
              "      <td>100.000000</td>\n",
              "      <td>100.000000</td>\n",
              "      <td>100.000000</td>\n",
              "      <td>100.000000</td>\n",
              "      <td>100.000000</td>\n",
              "      <td>100.000000</td>\n",
              "      <td>100.000000</td>\n",
              "      <td>100.000000</td>\n",
              "      <td>100.000000</td>\n",
              "    </tr>\n",
              "  </tbody>\n",
              "</table>\n",
              "</div>"
            ],
            "text/plain": [
              "       DiffMeanHourlyPercent  ...  FemaleTopQuartile\n",
              "count           10565.000000  ...       10565.000000\n",
              "mean               14.339801  ...          39.188443\n",
              "std                14.910620  ...          24.406092\n",
              "min              -400.000000  ...           0.000000\n",
              "25%                 5.000000  ...          17.100000\n",
              "50%                13.400000  ...          37.300000\n",
              "75%                22.900000  ...          58.500000\n",
              "max               159.000000  ...         100.000000\n",
              "\n",
              "[8 rows x 14 columns]"
            ]
          },
          "metadata": {
            "tags": []
          },
          "execution_count": 12
        }
      ]
    },
    {
      "cell_type": "code",
      "metadata": {
        "id": "YXJW_Nx8jmun",
        "colab": {
          "base_uri": "https://localhost:8080/",
          "height": 279
        },
        "outputId": "d24f2e1d-1b08-4ba7-dc94-7f4d90d43aa8"
      },
      "source": [
        "import matplotlib.pyplot as plt \n",
        "\n",
        "# Lets create a basic hisogram to show the distribution of the \"Difference in Mean Hourly Pay\"\n",
        "df.hist(column=\"DiffMeanHourlyPercent\", bins=200)\n",
        "plt.xlim(-50,100)\n",
        "plt.xlabel(\"Difference in Mean Hourly Pay (%)\")\n",
        "plt.ylabel(\"Number of employers\")\n",
        "plt.title(\"\")\n",
        "\n",
        "# And save the figure as a vector graphic.\n",
        "plt.savefig(\"test.svg\", format=\"svg\")"
      ],
      "execution_count": null,
      "outputs": [
        {
          "output_type": "display_data",
          "data": {
            "image/png": "[encoded data removed]",
            "text/plain": [
              "<Figure size 432x288 with 1 Axes>"
            ]
          },
          "metadata": {
            "tags": [],
            "needs_background": "light"
          }
        }
      ]
    },
    {
      "cell_type": "markdown",
      "metadata": {
        "id": "AzcNkLb5pANm"
      },
      "source": [
        "# Challenge #1\n",
        "\n",
        "Create a plot of the difference in median hourly pay between men and women.\n",
        "\n",
        "Save your plot.\n",
        "\n",
        "Post it to the padlet at: https://padlet.com/hipyliv/rrkuawconk2hbqyb"
      ]
    },
    {
      "cell_type": "code",
      "metadata": {
        "id": "LN9YkOzqpskp"
      },
      "source": [
        "# Enter your solution here"
      ],
      "execution_count": null,
      "outputs": []
    },
    {
      "cell_type": "markdown",
      "metadata": {
        "id": "_RqYg9ZgHzDr"
      },
      "source": [
        "# Filtering your data\n",
        "\n",
        "This is probably the most important thing you're going to learn today. In most cases when you're presented with a data set you only want to look at a subset of the data. In this case, you might only want to look at employers from a specific region or sector. Or perhaps you only want to look at employers who have over 1000 staff, etc."
      ]
    },
    {
      "cell_type": "code",
      "metadata": {
        "id": "hopj0_qOt5lO"
      },
      "source": [
        "# Create a subset, called 'liverpool' by filtering the Address column using the \n",
        "# words \"Liverpool\" and \"Merseyside\"\n",
        "\n",
        "liverpool = df[df[\"Address\"].str.contains(\"Liverpool\") | df[\"Address\"].str.contains(\"Merseyside\")]\n",
        "\n",
        "liverpool.head(10)"
      ],
      "execution_count": null,
      "outputs": []
    },
    {
      "cell_type": "code",
      "metadata": {
        "id": "FTV1__py5z6Y",
        "colab": {
          "base_uri": "https://localhost:8080/",
          "height": 299
        },
        "outputId": "6034db09-cbcb-41c6-9568-0338b6649df4"
      },
      "source": [
        "# Create another histogram for this subset\n",
        "liverpool.hist(column=\"DiffMeanHourlyPercent\", bins=25)\n",
        "\n",
        "# Include lines that show the UK mean pay gap and the Liverpool mean pay gap\n",
        "plt.axvline(df.describe().iat[1,0], color='r', label=\"UK mean pay gap\")\n",
        "plt.axvline(liverpool.describe().iat[1,0], color='g', label=\"Liverpool mean pay gap\")\n",
        "plt.legend()"
      ],
      "execution_count": null,
      "outputs": [
        {
          "output_type": "execute_result",
          "data": {
            "text/plain": [
              "<matplotlib.legend.Legend at 0x7f3b20921250>"
            ]
          },
          "metadata": {
            "tags": []
          },
          "execution_count": 33
        },
        {
          "output_type": "display_data",
          "data": {
            "image/png": "[encoded data removed]",
            "text/plain": [
              "<Figure size 432x288 with 1 Axes>"
            ]
          },
          "metadata": {
            "tags": [],
            "needs_background": "light"
          }
        }
      ]
    },
    {
      "cell_type": "markdown",
      "metadata": {
        "id": "vBv2P51XBGJc"
      },
      "source": [
        "# Challenge #2\n",
        "Filter the data according to a keyword (e.g. \"football\", \"nhs\", \"bank\") and generate a histogram for the DiffMeanHourlyPercent of this subset.\n",
        "\n",
        "Save your plots and post them into the Padlet: https://padlet.com/hipyliv/rrkuawconk2hbqyb\n",
        "\n"
      ]
    },
    {
      "cell_type": "code",
      "metadata": {
        "colab": {
          "base_uri": "https://localhost:8080/",
          "height": 673
        },
        "id": "t9zS6ECV23Ma",
        "outputId": "9775b1af-b477-484f-f6dd-c542343538af"
      },
      "source": [
        "df.head()"
      ],
      "execution_count": null,
      "outputs": [
        {
          "output_type": "execute_result",
          "data": {
            "text/html": [
              "<div>\n",
              "<style scoped>\n",
              "    .dataframe tbody tr th:only-of-type {\n",
              "        vertical-align: middle;\n",
              "    }\n",
              "\n",
              "    .dataframe tbody tr th {\n",
              "        vertical-align: top;\n",
              "    }\n",
              "\n",
              "    .dataframe thead th {\n",
              "        text-align: right;\n",
              "    }\n",
              "</style>\n",
              "<table border=\"1\" class=\"dataframe\">\n",
              "  <thead>\n",
              "    <tr style=\"text-align: right;\">\n",
              "      <th></th>\n",
              "      <th>EmployerName</th>\n",
              "      <th>Address</th>\n",
              "      <th>CompanyNumber</th>\n",
              "      <th>SicCodes</th>\n",
              "      <th>DiffMeanHourlyPercent</th>\n",
              "      <th>DiffMedianHourlyPercent</th>\n",
              "      <th>DiffMeanBonusPercent</th>\n",
              "      <th>DiffMedianBonusPercent</th>\n",
              "      <th>MaleBonusPercent</th>\n",
              "      <th>FemaleBonusPercent</th>\n",
              "      <th>MaleLowerQuartile</th>\n",
              "      <th>FemaleLowerQuartile</th>\n",
              "      <th>MaleLowerMiddleQuartile</th>\n",
              "      <th>FemaleLowerMiddleQuartile</th>\n",
              "      <th>MaleUpperMiddleQuartile</th>\n",
              "      <th>FemaleUpperMiddleQuartile</th>\n",
              "      <th>MaleTopQuartile</th>\n",
              "      <th>FemaleTopQuartile</th>\n",
              "      <th>CompanyLinkToGPGInfo</th>\n",
              "      <th>ResponsiblePerson</th>\n",
              "      <th>EmployerSize</th>\n",
              "      <th>CurrentName</th>\n",
              "      <th>SubmittedAfterTheDeadline</th>\n",
              "      <th>DueDate</th>\n",
              "      <th>DateSubmitted</th>\n",
              "    </tr>\n",
              "  </thead>\n",
              "  <tbody>\n",
              "    <tr>\n",
              "      <th>0</th>\n",
              "      <td>\"Bryanston School\",Incorporated</td>\n",
              "      <td>Bryanston House, Blandford, Dorset, DT11 0PX</td>\n",
              "      <td>00226143</td>\n",
              "      <td>85310</td>\n",
              "      <td>18.0</td>\n",
              "      <td>28.2</td>\n",
              "      <td>0.0</td>\n",
              "      <td>0.0</td>\n",
              "      <td>0.0</td>\n",
              "      <td>0.0</td>\n",
              "      <td>24.4</td>\n",
              "      <td>75.6</td>\n",
              "      <td>50.8</td>\n",
              "      <td>49.2</td>\n",
              "      <td>49.2</td>\n",
              "      <td>50.8</td>\n",
              "      <td>51.5</td>\n",
              "      <td>48.5</td>\n",
              "      <td>https://www.bryanston.co.uk/employment</td>\n",
              "      <td>Nick McRobb (Bursar and Clerk to the Governors)</td>\n",
              "      <td>500 to 999</td>\n",
              "      <td>BRYANSTON SCHOOL INCORPORATED</td>\n",
              "      <td>False</td>\n",
              "      <td>05/04/2018 00:00:00</td>\n",
              "      <td>27/03/2018 11:42:49</td>\n",
              "    </tr>\n",
              "    <tr>\n",
              "      <th>1</th>\n",
              "      <td>\"RED BAND\" CHEMICAL COMPANY, LIMITED</td>\n",
              "      <td>19 Smith's Place, Leith Walk, Edinburgh, EH6 8NU</td>\n",
              "      <td>SC016876</td>\n",
              "      <td>47730</td>\n",
              "      <td>2.3</td>\n",
              "      <td>-2.7</td>\n",
              "      <td>15.0</td>\n",
              "      <td>37.5</td>\n",
              "      <td>15.6</td>\n",
              "      <td>66.7</td>\n",
              "      <td>20.3</td>\n",
              "      <td>79.7</td>\n",
              "      <td>25.4</td>\n",
              "      <td>74.6</td>\n",
              "      <td>10.3</td>\n",
              "      <td>89.7</td>\n",
              "      <td>18.1</td>\n",
              "      <td>81.9</td>\n",
              "      <td>NaN</td>\n",
              "      <td>Philip Galt (Managing Director)</td>\n",
              "      <td>250 to 499</td>\n",
              "      <td>\"RED BAND\" CHEMICAL COMPANY, LIMITED</td>\n",
              "      <td>False</td>\n",
              "      <td>05/04/2018 00:00:00</td>\n",
              "      <td>28/03/2018 16:44:25</td>\n",
              "    </tr>\n",
              "    <tr>\n",
              "      <th>2</th>\n",
              "      <td>118 LIMITED</td>\n",
              "      <td>3 Alexandra Gate Ffordd Pengam, Ground Floor, ...</td>\n",
              "      <td>03951948</td>\n",
              "      <td>61900</td>\n",
              "      <td>1.7</td>\n",
              "      <td>2.8</td>\n",
              "      <td>13.1</td>\n",
              "      <td>13.6</td>\n",
              "      <td>70.0</td>\n",
              "      <td>57.0</td>\n",
              "      <td>51.0</td>\n",
              "      <td>49.0</td>\n",
              "      <td>53.0</td>\n",
              "      <td>47.0</td>\n",
              "      <td>50.0</td>\n",
              "      <td>50.0</td>\n",
              "      <td>58.0</td>\n",
              "      <td>42.0</td>\n",
              "      <td>NaN</td>\n",
              "      <td>Emma Crowe (VP, Human Resources)</td>\n",
              "      <td>500 to 999</td>\n",
              "      <td>118 LIMITED</td>\n",
              "      <td>False</td>\n",
              "      <td>05/04/2018 00:00:00</td>\n",
              "      <td>27/03/2018 19:10:41</td>\n",
              "    </tr>\n",
              "    <tr>\n",
              "      <th>3</th>\n",
              "      <td>123 EMPLOYEES LTD</td>\n",
              "      <td>34 Roundhay Road, Leeds, England, LS7 1AB</td>\n",
              "      <td>10530651</td>\n",
              "      <td>78300</td>\n",
              "      <td>41.0</td>\n",
              "      <td>36.0</td>\n",
              "      <td>-69.8</td>\n",
              "      <td>-157.2</td>\n",
              "      <td>50.0</td>\n",
              "      <td>73.5</td>\n",
              "      <td>0.0</td>\n",
              "      <td>100.0</td>\n",
              "      <td>2.0</td>\n",
              "      <td>98.0</td>\n",
              "      <td>11.0</td>\n",
              "      <td>89.0</td>\n",
              "      <td>23.0</td>\n",
              "      <td>77.0</td>\n",
              "      <td>NaN</td>\n",
              "      <td>Chloe Lines (Financial Controller)</td>\n",
              "      <td>250 to 499</td>\n",
              "      <td>123 EMPLOYEES LTD</td>\n",
              "      <td>True</td>\n",
              "      <td>05/04/2018 00:00:00</td>\n",
              "      <td>04/05/2018 11:24:06</td>\n",
              "    </tr>\n",
              "    <tr>\n",
              "      <th>4</th>\n",
              "      <td>1610 LIMITED</td>\n",
              "      <td>Trinity Sports And Leisure, Chilton Street, Br...</td>\n",
              "      <td>06727055</td>\n",
              "      <td>93110</td>\n",
              "      <td>-22.0</td>\n",
              "      <td>-34.0</td>\n",
              "      <td>-47.0</td>\n",
              "      <td>-67.0</td>\n",
              "      <td>25.0</td>\n",
              "      <td>75.0</td>\n",
              "      <td>56.0</td>\n",
              "      <td>44.0</td>\n",
              "      <td>52.0</td>\n",
              "      <td>48.0</td>\n",
              "      <td>30.0</td>\n",
              "      <td>70.0</td>\n",
              "      <td>24.0</td>\n",
              "      <td>76.0</td>\n",
              "      <td>https://www.1610.org.uk/gender-pay-gap/</td>\n",
              "      <td>Tim Nightingale (CEO)</td>\n",
              "      <td>250 to 499</td>\n",
              "      <td>1610 LIMITED</td>\n",
              "      <td>True</td>\n",
              "      <td>05/04/2018 00:00:00</td>\n",
              "      <td>12/04/2018 17:03:26</td>\n",
              "    </tr>\n",
              "  </tbody>\n",
              "</table>\n",
              "</div>"
            ],
            "text/plain": [
              "                           EmployerName  ...        DateSubmitted\n",
              "0       \"Bryanston School\",Incorporated  ...  27/03/2018 11:42:49\n",
              "1  \"RED BAND\" CHEMICAL COMPANY, LIMITED  ...  28/03/2018 16:44:25\n",
              "2                           118 LIMITED  ...  27/03/2018 19:10:41\n",
              "3                     123 EMPLOYEES LTD  ...  04/05/2018 11:24:06\n",
              "4                          1610 LIMITED  ...  12/04/2018 17:03:26\n",
              "\n",
              "[5 rows x 25 columns]"
            ]
          },
          "metadata": {
            "tags": []
          },
          "execution_count": 37
        }
      ]
    },
    {
      "cell_type": "code",
      "metadata": {
        "id": "hD_I9TeB2WYY"
      },
      "source": [
        "import re\r\n",
        "football = df[df['EmployerName'].str.contains(\"football\", flags=re.IGNORECASE)]\r\n",
        "football.head()"
      ],
      "execution_count": null,
      "outputs": []
    },
    {
      "cell_type": "code",
      "metadata": {
        "colab": {
          "base_uri": "https://localhost:8080/",
          "height": 316
        },
        "id": "Dw9jQjtH3WRk",
        "outputId": "9735efe5-143c-486f-9541-b347f69424a0"
      },
      "source": [
        "football.hist(column=\"DiffMeanHourlyPercent\")"
      ],
      "execution_count": null,
      "outputs": [
        {
          "output_type": "execute_result",
          "data": {
            "text/plain": [
              "array([[<matplotlib.axes._subplots.AxesSubplot object at 0x7f3b214e0710>]],\n",
              "      dtype=object)"
            ]
          },
          "metadata": {
            "tags": []
          },
          "execution_count": 45
        },
        {
          "output_type": "display_data",
          "data": {
            "image/png": "[encoded data removed]",
            "text/plain": [
              "<Figure size 432x288 with 1 Axes>"
            ]
          },
          "metadata": {
            "tags": [],
            "needs_background": "light"
          }
        }
      ]
    },
    {
      "cell_type": "code",
      "metadata": {
        "colab": {
          "base_uri": "https://localhost:8080/"
        },
        "id": "xap3JzBk4oYE",
        "outputId": "6b0e4024-7434-4635-9687-ce53cce0816e"
      },
      "source": [
        "pip install wikipedia"
      ],
      "execution_count": null,
      "outputs": [
        {
          "output_type": "stream",
          "text": [
            "Collecting wikipedia\n",
            "  Downloading https://files.pythonhosted.org/packages/67/35/25e68fbc99e672127cc6fbb14b8ec1ba3dfef035bf1e4c90f78f24a80b7d/wikipedia-1.4.0.tar.gz\n",
            "Requirement already satisfied: beautifulsoup4 in /usr/local/lib/python3.7/dist-packages (from wikipedia) (4.6.3)\n",
            "Requirement already satisfied: requests<3.0.0,>=2.0.0 in /usr/local/lib/python3.7/dist-packages (from wikipedia) (2.23.0)\n",
            "Requirement already satisfied: urllib3!=1.25.0,!=1.25.1,<1.26,>=1.21.1 in /usr/local/lib/python3.7/dist-packages (from requests<3.0.0,>=2.0.0->wikipedia) (1.24.3)\n",
            "Requirement already satisfied: certifi>=2017.4.17 in /usr/local/lib/python3.7/dist-packages (from requests<3.0.0,>=2.0.0->wikipedia) (2020.12.5)\n",
            "Requirement already satisfied: idna<3,>=2.5 in /usr/local/lib/python3.7/dist-packages (from requests<3.0.0,>=2.0.0->wikipedia) (2.10)\n",
            "Requirement already satisfied: chardet<4,>=3.0.2 in /usr/local/lib/python3.7/dist-packages (from requests<3.0.0,>=2.0.0->wikipedia) (3.0.4)\n",
            "Building wheels for collected packages: wikipedia\n",
            "  Building wheel for wikipedia (setup.py) ... \u001b[?25l\u001b[?25hdone\n",
            "  Created wheel for wikipedia: filename=wikipedia-1.4.0-cp37-none-any.whl size=11686 sha256=c68bdee86698dc4d0999399026f47e3e839f69c29b3264d972f6d573f7de52d7\n",
            "  Stored in directory: /root/.cache/pip/wheels/87/2a/18/4e471fd96d12114d16fe4a446d00c3b38fb9efcb744bd31f4a\n",
            "Successfully built wikipedia\n",
            "Installing collected packages: wikipedia\n",
            "Successfully installed wikipedia-1.4.0\n"
          ],
          "name": "stdout"
        }
      ]
    },
    {
      "cell_type": "code",
      "metadata": {
        "colab": {
          "base_uri": "https://localhost:8080/"
        },
        "id": "W5F8lEEf5Jjr",
        "outputId": "e3a5940c-5bf8-4ebb-b87d-6d85f1d98bc6"
      },
      "source": [
        "import wikipedia\r\n",
        "print(wikipedia.summary(\"Monty Python\"))"
      ],
      "execution_count": null,
      "outputs": [
        {
          "output_type": "stream",
          "text": [
            "Monty Python (also collectively known as the Pythons) were a British surreal comedy troupe who created the sketch comedy television show Monty Python's Flying Circus, which first aired on the BBC in 1969. Forty-five episodes were made over four series. The Python phenomenon developed from the television series into something larger in scope and impact, including touring stage shows, films, albums, books and musicals. The Pythons' influence on comedy has been compared to the Beatles' influence on music. Regarded as an enduring icon of 1970s pop culture, their sketch show has been referred to as being \"an important moment in the evolution of television comedy\".Broadcast by the BBC between 1969 and 1974, Monty Python's Flying Circus was conceived, written and performed by its members Graham Chapman, John Cleese, Terry Gilliam, Eric Idle, Terry Jones, and Michael Palin. Loosely structured as a sketch show, but with an innovative stream-of-consciousness approach aided by Gilliam's animation, it pushed the boundaries of what was acceptable in style and content. A self-contained comedy team responsible for both writing and performing their work, the Pythons had creative control which allowed them to experiment with form and content, discarding rules of television comedy. Following their television work, they began making films, including Monty Python and the Holy Grail (1975), Life of Brian (1979) and The Meaning of Life (1983). Their influence on British comedy has been apparent for years, while in North America, it has coloured the work of cult performers from the early editions of Saturday Night Live through to more recent absurdist trends in television comedy. \"Pythonesque\" has entered the English lexicon as a result.\n",
            "At the 41st British Academy Film Awards in 1988, Monty Python received the BAFTA Award for Outstanding British Contribution To Cinema. In 1998 they were awarded the AFI Star Award by the American Film Institute. Many sketches from their TV show and films are well-known and widely quoted. Both Holy Grail and Life of Brian are frequently ranked in lists of greatest comedy films. In a 2005 poll of over 300 comics, comedy writers, producers and directors throughout the English-speaking world to find \"The Comedian's Comedian\", three of the six Pythons members were voted to be among the top 50 greatest comedians ever: Cleese at No. 2, Idle at No. 21, and Palin at No. 30.\n"
          ],
          "name": "stdout"
        }
      ]
    },
    {
      "cell_type": "markdown",
      "metadata": {
        "id": "Zqc8BGEBDGSl"
      },
      "source": [
        "# Sorting your data\n",
        "\n",
        "Another important thing you need to able to do to your data is sort it. This simple operation magically tranforms your dataset into something that is significantly more useful."
      ]
    },
    {
      "cell_type": "code",
      "metadata": {
        "id": "WwRaQfrIDtkV",
        "colab": {
          "base_uri": "https://localhost:8080/",
          "height": 1000
        },
        "outputId": "2f7e4210-0dc7-43b1-c16e-01a17d1797e9"
      },
      "source": [
        "# Lets sort our data based on the \"DiffMeanHourlyPercent\" column\r\n",
        "df.sort_values(by=\"DiffMeanHourlyPercent\", ascending=False).head(20)"
      ],
      "execution_count": null,
      "outputs": [
        {
          "output_type": "execute_result",
          "data": {
            "text/html": [
              "<div>\n",
              "<style scoped>\n",
              "    .dataframe tbody tr th:only-of-type {\n",
              "        vertical-align: middle;\n",
              "    }\n",
              "\n",
              "    .dataframe tbody tr th {\n",
              "        vertical-align: top;\n",
              "    }\n",
              "\n",
              "    .dataframe thead th {\n",
              "        text-align: right;\n",
              "    }\n",
              "</style>\n",
              "<table border=\"1\" class=\"dataframe\">\n",
              "  <thead>\n",
              "    <tr style=\"text-align: right;\">\n",
              "      <th></th>\n",
              "      <th>EmployerName</th>\n",
              "      <th>Address</th>\n",
              "      <th>CompanyNumber</th>\n",
              "      <th>SicCodes</th>\n",
              "      <th>DiffMeanHourlyPercent</th>\n",
              "      <th>DiffMedianHourlyPercent</th>\n",
              "      <th>DiffMeanBonusPercent</th>\n",
              "      <th>DiffMedianBonusPercent</th>\n",
              "      <th>MaleBonusPercent</th>\n",
              "      <th>FemaleBonusPercent</th>\n",
              "      <th>MaleLowerQuartile</th>\n",
              "      <th>FemaleLowerQuartile</th>\n",
              "      <th>MaleLowerMiddleQuartile</th>\n",
              "      <th>FemaleLowerMiddleQuartile</th>\n",
              "      <th>MaleUpperMiddleQuartile</th>\n",
              "      <th>FemaleUpperMiddleQuartile</th>\n",
              "      <th>MaleTopQuartile</th>\n",
              "      <th>FemaleTopQuartile</th>\n",
              "      <th>CompanyLinkToGPGInfo</th>\n",
              "      <th>ResponsiblePerson</th>\n",
              "      <th>EmployerSize</th>\n",
              "      <th>CurrentName</th>\n",
              "      <th>SubmittedAfterTheDeadline</th>\n",
              "      <th>DueDate</th>\n",
              "      <th>DateSubmitted</th>\n",
              "    </tr>\n",
              "  </thead>\n",
              "  <tbody>\n",
              "    <tr>\n",
              "      <th>5952</th>\n",
              "      <td>MILLWALL HOLDINGS PLC</td>\n",
              "      <td>The Den, Zampa Road, London, SE16 3LN</td>\n",
              "      <td>02355508</td>\n",
              "      <td>93110,\\n93199</td>\n",
              "      <td>159.0</td>\n",
              "      <td>0.0</td>\n",
              "      <td>99.0</td>\n",
              "      <td>99.0</td>\n",
              "      <td>29.0</td>\n",
              "      <td>3.0</td>\n",
              "      <td>90.0</td>\n",
              "      <td>10.0</td>\n",
              "      <td>78.0</td>\n",
              "      <td>22.0</td>\n",
              "      <td>69.0</td>\n",
              "      <td>31.0</td>\n",
              "      <td>64.0</td>\n",
              "      <td>36.0</td>\n",
              "      <td>NaN</td>\n",
              "      <td>Gina Walas (Human Resources Manager)</td>\n",
              "      <td>Less than 250</td>\n",
              "      <td>MILLWALL HOLDINGS PLC</td>\n",
              "      <td>False</td>\n",
              "      <td>05/04/2018 00:00:00</td>\n",
              "      <td>05/04/2018 13:57:48</td>\n",
              "    </tr>\n",
              "    <tr>\n",
              "      <th>5972</th>\n",
              "      <td>MINT PAY SOLUTIONS LTD</td>\n",
              "      <td>A&amp;L, Windfall House D1, The Courtyard, Alban P...</td>\n",
              "      <td>08189359</td>\n",
              "      <td>78200,\\n82990</td>\n",
              "      <td>94.0</td>\n",
              "      <td>97.0</td>\n",
              "      <td>0.0</td>\n",
              "      <td>0.0</td>\n",
              "      <td>0.0</td>\n",
              "      <td>0.0</td>\n",
              "      <td>97.0</td>\n",
              "      <td>3.0</td>\n",
              "      <td>97.0</td>\n",
              "      <td>3.0</td>\n",
              "      <td>96.0</td>\n",
              "      <td>4.0</td>\n",
              "      <td>99.0</td>\n",
              "      <td>1.0</td>\n",
              "      <td>NaN</td>\n",
              "      <td>Mo El-Bassyouni (Managing Director)</td>\n",
              "      <td>250 to 499</td>\n",
              "      <td>MINT PAY SOLUTIONS LTD</td>\n",
              "      <td>True</td>\n",
              "      <td>05/04/2018 00:00:00</td>\n",
              "      <td>02/07/2018 11:30:39</td>\n",
              "    </tr>\n",
              "    <tr>\n",
              "      <th>8563</th>\n",
              "      <td>STOKE CITY FOOTBALL CLUB LIMITED</td>\n",
              "      <td>Bet365 Stadium Stanley Matthews Way, Stoke-On-...</td>\n",
              "      <td>00099885</td>\n",
              "      <td>93120</td>\n",
              "      <td>92.5</td>\n",
              "      <td>30.5</td>\n",
              "      <td>98.9</td>\n",
              "      <td>93.7</td>\n",
              "      <td>28.6</td>\n",
              "      <td>17.5</td>\n",
              "      <td>64.1</td>\n",
              "      <td>35.9</td>\n",
              "      <td>74.2</td>\n",
              "      <td>25.8</td>\n",
              "      <td>77.4</td>\n",
              "      <td>22.6</td>\n",
              "      <td>97.8</td>\n",
              "      <td>2.2</td>\n",
              "      <td>NaN</td>\n",
              "      <td>John Pelling (Head of Finance)</td>\n",
              "      <td>250 to 499</td>\n",
              "      <td>STOKE CITY FOOTBALL CLUB LIMITED</td>\n",
              "      <td>False</td>\n",
              "      <td>05/04/2018 00:00:00</td>\n",
              "      <td>29/03/2018 13:42:37</td>\n",
              "    </tr>\n",
              "    <tr>\n",
              "      <th>1447</th>\n",
              "      <td>BURNLEY FOOTBALL &amp; ATHLETIC COMPANY,LIMITED(THE)</td>\n",
              "      <td>Turf Moor, Burnley, Lancashire, BB10 4BX</td>\n",
              "      <td>00054222</td>\n",
              "      <td>93110</td>\n",
              "      <td>88.4</td>\n",
              "      <td>15.6</td>\n",
              "      <td>98.2</td>\n",
              "      <td>36.0</td>\n",
              "      <td>46.3</td>\n",
              "      <td>11.6</td>\n",
              "      <td>54.0</td>\n",
              "      <td>46.0</td>\n",
              "      <td>44.9</td>\n",
              "      <td>55.1</td>\n",
              "      <td>54.0</td>\n",
              "      <td>46.0</td>\n",
              "      <td>90.6</td>\n",
              "      <td>9.4</td>\n",
              "      <td>NaN</td>\n",
              "      <td>Ian Hargreaves (Financial Controller)</td>\n",
              "      <td>500 to 999</td>\n",
              "      <td>BURNLEY FOOTBALL &amp; ATHLETIC COMPANY,LIMITED(THE)</td>\n",
              "      <td>False</td>\n",
              "      <td>05/04/2018 00:00:00</td>\n",
              "      <td>29/03/2018 14:02:54</td>\n",
              "    </tr>\n",
              "    <tr>\n",
              "      <th>8668</th>\n",
              "      <td>SWANSEA CITY ASSOCIATION FOOTBALL CLUB LIMITED...</td>\n",
              "      <td>The Liberty Stadium, Landore, Swansea, SA1 2FA</td>\n",
              "      <td>00123414</td>\n",
              "      <td>93120</td>\n",
              "      <td>87.8</td>\n",
              "      <td>26.4</td>\n",
              "      <td>97.2</td>\n",
              "      <td>91.1</td>\n",
              "      <td>23.2</td>\n",
              "      <td>16.0</td>\n",
              "      <td>74.5</td>\n",
              "      <td>25.5</td>\n",
              "      <td>72.2</td>\n",
              "      <td>27.8</td>\n",
              "      <td>81.4</td>\n",
              "      <td>18.6</td>\n",
              "      <td>93.8</td>\n",
              "      <td>6.2</td>\n",
              "      <td>https://www.swanseacity.com/news/gender-pay-ga...</td>\n",
              "      <td>CHRISTOPHER PEARLMAN (CHIEF OPERATING OFFICER)</td>\n",
              "      <td>250 to 499</td>\n",
              "      <td>SWANSEA CITY ASSOCIATION FOOTBALL CLUB LIMITED...</td>\n",
              "      <td>False</td>\n",
              "      <td>05/04/2018 00:00:00</td>\n",
              "      <td>29/03/2018 16:10:08</td>\n",
              "    </tr>\n",
              "    <tr>\n",
              "      <th>5625</th>\n",
              "      <td>MANCHESTER CITY FOOTBALL CLUB LIMITED</td>\n",
              "      <td>Etihad Stadium, Etihad Campus, Manchester, M11...</td>\n",
              "      <td>00040946</td>\n",
              "      <td>93120</td>\n",
              "      <td>87.7</td>\n",
              "      <td>-17.2</td>\n",
              "      <td>98.8</td>\n",
              "      <td>61.8</td>\n",
              "      <td>22.7</td>\n",
              "      <td>25.7</td>\n",
              "      <td>76.9</td>\n",
              "      <td>23.1</td>\n",
              "      <td>80.8</td>\n",
              "      <td>19.2</td>\n",
              "      <td>59.0</td>\n",
              "      <td>41.0</td>\n",
              "      <td>80.6</td>\n",
              "      <td>19.4</td>\n",
              "      <td>https://mediacdn.mancity.com/-/media/Files/Clu...</td>\n",
              "      <td>Ferran Soriano (Chief Executive Officer)</td>\n",
              "      <td>1000 to 4999</td>\n",
              "      <td>MANCHESTER CITY FOOTBALL CLUB LIMITED</td>\n",
              "      <td>False</td>\n",
              "      <td>05/04/2018 00:00:00</td>\n",
              "      <td>29/03/2018 13:40:49</td>\n",
              "    </tr>\n",
              "    <tr>\n",
              "      <th>10206</th>\n",
              "      <td>WEST HAM UNITED FOOTBALL CLUB LIMITED</td>\n",
              "      <td>London Stadium, Queen Elizabeth Olympic Park, ...</td>\n",
              "      <td>00066516</td>\n",
              "      <td>93120</td>\n",
              "      <td>87.4</td>\n",
              "      <td>32.0</td>\n",
              "      <td>53.2</td>\n",
              "      <td>29.3</td>\n",
              "      <td>25.2</td>\n",
              "      <td>6.3</td>\n",
              "      <td>55.0</td>\n",
              "      <td>45.0</td>\n",
              "      <td>53.3</td>\n",
              "      <td>46.7</td>\n",
              "      <td>83.3</td>\n",
              "      <td>16.7</td>\n",
              "      <td>89.2</td>\n",
              "      <td>10.8</td>\n",
              "      <td>http://www.whufc.com/news/articles/2018/march/...</td>\n",
              "      <td>Andy Mollett (Chief Finance Officer)</td>\n",
              "      <td>250 to 499</td>\n",
              "      <td>WEST HAM UNITED FOOTBALL CLUB LIMITED</td>\n",
              "      <td>True</td>\n",
              "      <td>05/04/2018 00:00:00</td>\n",
              "      <td>27/04/2018 14:22:35</td>\n",
              "    </tr>\n",
              "    <tr>\n",
              "      <th>10126</th>\n",
              "      <td>WATFORD ASSOCIATION FOOTBALL CLUB LIMITED(THE)</td>\n",
              "      <td>Vicarage Road Stadium, Vicarage Road, Watford ...</td>\n",
              "      <td>00104194</td>\n",
              "      <td>93199</td>\n",
              "      <td>87.0</td>\n",
              "      <td>3.0</td>\n",
              "      <td>93.4</td>\n",
              "      <td>47.0</td>\n",
              "      <td>22.3</td>\n",
              "      <td>18.0</td>\n",
              "      <td>71.4</td>\n",
              "      <td>28.6</td>\n",
              "      <td>73.2</td>\n",
              "      <td>26.8</td>\n",
              "      <td>77.6</td>\n",
              "      <td>22.4</td>\n",
              "      <td>88.7</td>\n",
              "      <td>11.3</td>\n",
              "      <td>NaN</td>\n",
              "      <td>Scott Duxbury (Chairman &amp; Chief Executive Offi...</td>\n",
              "      <td>250 to 499</td>\n",
              "      <td>WATFORD ASSOCIATION FOOTBALL CLUB LIMITED(THE)</td>\n",
              "      <td>False</td>\n",
              "      <td>05/04/2018 00:00:00</td>\n",
              "      <td>29/03/2018 14:21:56</td>\n",
              "    </tr>\n",
              "    <tr>\n",
              "      <th>8622</th>\n",
              "      <td>SUNDERLAND ASSOCIATION FOOTBALL CLUB,LIMITED(THE)</td>\n",
              "      <td>The Sunderland Stadium Of Light, Sunderland, T...</td>\n",
              "      <td>00049116</td>\n",
              "      <td>93110</td>\n",
              "      <td>85.1</td>\n",
              "      <td>15.8</td>\n",
              "      <td>95.1</td>\n",
              "      <td>0.0</td>\n",
              "      <td>26.4</td>\n",
              "      <td>48.8</td>\n",
              "      <td>70.9</td>\n",
              "      <td>29.1</td>\n",
              "      <td>73.2</td>\n",
              "      <td>26.8</td>\n",
              "      <td>69.7</td>\n",
              "      <td>30.3</td>\n",
              "      <td>87.8</td>\n",
              "      <td>12.2</td>\n",
              "      <td>https://www.safc.com/news/club-news/2018/march...</td>\n",
              "      <td>Jo Graham (Deputy HR Manager)</td>\n",
              "      <td>500 to 999</td>\n",
              "      <td>SUNDERLAND ASSOCIATION FOOTBALL CLUB,LIMITED(THE)</td>\n",
              "      <td>False</td>\n",
              "      <td>05/04/2018 00:00:00</td>\n",
              "      <td>29/03/2018 15:37:10</td>\n",
              "    </tr>\n",
              "    <tr>\n",
              "      <th>10201</th>\n",
              "      <td>WEST BROMWICH ALBION FOOTBALL CLUB LIMITED</td>\n",
              "      <td>The Hawthorns, West Bromwich, West Midlands, B...</td>\n",
              "      <td>03295063</td>\n",
              "      <td>93120</td>\n",
              "      <td>84.4</td>\n",
              "      <td>34.3</td>\n",
              "      <td>94.2</td>\n",
              "      <td>-5233.3</td>\n",
              "      <td>45.3</td>\n",
              "      <td>22.1</td>\n",
              "      <td>51.5</td>\n",
              "      <td>48.5</td>\n",
              "      <td>51.5</td>\n",
              "      <td>48.5</td>\n",
              "      <td>81.8</td>\n",
              "      <td>18.2</td>\n",
              "      <td>84.2</td>\n",
              "      <td>15.8</td>\n",
              "      <td>https://www.wba.co.uk/news/2018/march/albion-r...</td>\n",
              "      <td>Mark Jenkins (CEO)</td>\n",
              "      <td>500 to 999</td>\n",
              "      <td>WEST BROMWICH ALBION FOOTBALL CLUB LIMITED</td>\n",
              "      <td>False</td>\n",
              "      <td>05/04/2018 00:00:00</td>\n",
              "      <td>29/03/2018 16:10:22</td>\n",
              "    </tr>\n",
              "    <tr>\n",
              "      <th>8277</th>\n",
              "      <td>SOUTHAMPTON FOOTBALL CLUB LIMITED</td>\n",
              "      <td>St Mary's Stadium, Britannia Road, Southampton...</td>\n",
              "      <td>00053301</td>\n",
              "      <td>93110</td>\n",
              "      <td>84.4</td>\n",
              "      <td>23.1</td>\n",
              "      <td>97.5</td>\n",
              "      <td>42.8</td>\n",
              "      <td>47.0</td>\n",
              "      <td>43.0</td>\n",
              "      <td>72.0</td>\n",
              "      <td>28.0</td>\n",
              "      <td>68.0</td>\n",
              "      <td>32.0</td>\n",
              "      <td>80.0</td>\n",
              "      <td>20.0</td>\n",
              "      <td>80.0</td>\n",
              "      <td>20.0</td>\n",
              "      <td>https://southamptonfc.com/news/2018-03-29/sout...</td>\n",
              "      <td>Toby Steele (Managing Director)</td>\n",
              "      <td>500 to 999</td>\n",
              "      <td>SOUTHAMPTON FOOTBALL CLUB LIMITED</td>\n",
              "      <td>False</td>\n",
              "      <td>05/04/2018 00:00:00</td>\n",
              "      <td>29/03/2018 06:18:35</td>\n",
              "    </tr>\n",
              "    <tr>\n",
              "      <th>2302</th>\n",
              "      <td>CPFC LIMITED</td>\n",
              "      <td>Selhurst Park Stadium, Holmesdale Road, London...</td>\n",
              "      <td>07270793</td>\n",
              "      <td>93120,\\n93199</td>\n",
              "      <td>84.0</td>\n",
              "      <td>17.0</td>\n",
              "      <td>98.0</td>\n",
              "      <td>40.0</td>\n",
              "      <td>17.0</td>\n",
              "      <td>7.0</td>\n",
              "      <td>70.0</td>\n",
              "      <td>30.0</td>\n",
              "      <td>56.0</td>\n",
              "      <td>44.0</td>\n",
              "      <td>59.0</td>\n",
              "      <td>41.0</td>\n",
              "      <td>84.0</td>\n",
              "      <td>16.0</td>\n",
              "      <td>https://www.cpfc.co.uk/siteassets/pdfs/cpfc-ge...</td>\n",
              "      <td>Phil Alexander (CEO)</td>\n",
              "      <td>1000 to 4999</td>\n",
              "      <td>CPFC LIMITED</td>\n",
              "      <td>False</td>\n",
              "      <td>05/04/2018 00:00:00</td>\n",
              "      <td>04/04/2018 09:55:31</td>\n",
              "    </tr>\n",
              "    <tr>\n",
              "      <th>6279</th>\n",
              "      <td>NEWCASTLE UNITED FOOTBALL COMPANY LIMITED</td>\n",
              "      <td>St James Park,, Newcastle-Upon-Tyne, NE1 4ST</td>\n",
              "      <td>00031014</td>\n",
              "      <td>93110</td>\n",
              "      <td>83.3</td>\n",
              "      <td>0.0</td>\n",
              "      <td>0.0</td>\n",
              "      <td>0.0</td>\n",
              "      <td>0.0</td>\n",
              "      <td>0.0</td>\n",
              "      <td>64.0</td>\n",
              "      <td>36.0</td>\n",
              "      <td>84.6</td>\n",
              "      <td>15.4</td>\n",
              "      <td>75.9</td>\n",
              "      <td>24.1</td>\n",
              "      <td>86.4</td>\n",
              "      <td>13.6</td>\n",
              "      <td>https://www.nufc.co.uk/genderpaygap</td>\n",
              "      <td>Lee Charnley (Managing Director)</td>\n",
              "      <td>500 to 999</td>\n",
              "      <td>NEWCASTLE UNITED FOOTBALL COMPANY LIMITED</td>\n",
              "      <td>False</td>\n",
              "      <td>05/04/2018 00:00:00</td>\n",
              "      <td>29/03/2018 14:16:55</td>\n",
              "    </tr>\n",
              "    <tr>\n",
              "      <th>5917</th>\n",
              "      <td>MIDDLESBROUGH FOOTBALL &amp; ATHLETIC COMPANY (198...</td>\n",
              "      <td>Riverside Stadium, Middlesbrough, TS3 6RS</td>\n",
              "      <td>01947851</td>\n",
              "      <td>93120</td>\n",
              "      <td>83.0</td>\n",
              "      <td>3.9</td>\n",
              "      <td>97.3</td>\n",
              "      <td>58.1</td>\n",
              "      <td>23.1</td>\n",
              "      <td>15.5</td>\n",
              "      <td>52.0</td>\n",
              "      <td>48.0</td>\n",
              "      <td>46.0</td>\n",
              "      <td>54.0</td>\n",
              "      <td>61.0</td>\n",
              "      <td>39.0</td>\n",
              "      <td>75.0</td>\n",
              "      <td>25.0</td>\n",
              "      <td>https://www.mfc.co.uk/club-community/policies/...</td>\n",
              "      <td>Kathryn Hancock (Head of HR)</td>\n",
              "      <td>500 to 999</td>\n",
              "      <td>MIDDLESBROUGH FOOTBALL &amp; ATHLETIC COMPANY (198...</td>\n",
              "      <td>False</td>\n",
              "      <td>05/04/2018 00:00:00</td>\n",
              "      <td>27/03/2018 11:17:45</td>\n",
              "    </tr>\n",
              "    <tr>\n",
              "      <th>1874</th>\n",
              "      <td>CHELSEA FOOTBALL CLUB LIMITED</td>\n",
              "      <td>Stamford Bridge Ground, Fulham Road, London, S...</td>\n",
              "      <td>01965149</td>\n",
              "      <td>93120</td>\n",
              "      <td>83.0</td>\n",
              "      <td>0.0</td>\n",
              "      <td>88.0</td>\n",
              "      <td>0.0</td>\n",
              "      <td>60.0</td>\n",
              "      <td>54.0</td>\n",
              "      <td>80.0</td>\n",
              "      <td>20.0</td>\n",
              "      <td>88.0</td>\n",
              "      <td>12.0</td>\n",
              "      <td>78.0</td>\n",
              "      <td>22.0</td>\n",
              "      <td>89.0</td>\n",
              "      <td>11.0</td>\n",
              "      <td>http://www.chelseafc.com/content/dam/cfc/pdf-w...</td>\n",
              "      <td>Sara Matthews (Chief HR Officer)</td>\n",
              "      <td>1000 to 4999</td>\n",
              "      <td>CHELSEA FOOTBALL CLUB LIMITED</td>\n",
              "      <td>True</td>\n",
              "      <td>05/04/2018 00:00:00</td>\n",
              "      <td>28/03/2019 15:40:31</td>\n",
              "    </tr>\n",
              "    <tr>\n",
              "      <th>9533</th>\n",
              "      <td>Tottenham Hotspur Football &amp; Athletic Co. Ltd</td>\n",
              "      <td>Lilywhite House, 782 High Road, London, N17 0BX</td>\n",
              "      <td>00057186</td>\n",
              "      <td>93110</td>\n",
              "      <td>83.0</td>\n",
              "      <td>3.0</td>\n",
              "      <td>90.0</td>\n",
              "      <td>42.0</td>\n",
              "      <td>32.0</td>\n",
              "      <td>30.0</td>\n",
              "      <td>74.0</td>\n",
              "      <td>26.0</td>\n",
              "      <td>73.0</td>\n",
              "      <td>27.0</td>\n",
              "      <td>71.0</td>\n",
              "      <td>29.0</td>\n",
              "      <td>85.0</td>\n",
              "      <td>15.0</td>\n",
              "      <td>http://www.tottenhamhotspur.com/club-gender-pa...</td>\n",
              "      <td>Donna-Maria Cullen (Executive Director)</td>\n",
              "      <td>1000 to 4999</td>\n",
              "      <td>TOTTENHAM HOTSPUR FOOTBALL &amp; ATHLETIC CO. LTD</td>\n",
              "      <td>False</td>\n",
              "      <td>05/04/2018 00:00:00</td>\n",
              "      <td>29/03/2018 14:32:14</td>\n",
              "    </tr>\n",
              "    <tr>\n",
              "      <th>221</th>\n",
              "      <td>AFC BOURNEMOUTH LIMITED</td>\n",
              "      <td>Vitality Stadium Dean Court, Kings Park, Bourn...</td>\n",
              "      <td>06632170</td>\n",
              "      <td>93120</td>\n",
              "      <td>83.0</td>\n",
              "      <td>30.0</td>\n",
              "      <td>100.0</td>\n",
              "      <td>100.0</td>\n",
              "      <td>15.5</td>\n",
              "      <td>0.6</td>\n",
              "      <td>66.0</td>\n",
              "      <td>34.0</td>\n",
              "      <td>50.0</td>\n",
              "      <td>50.0</td>\n",
              "      <td>84.0</td>\n",
              "      <td>16.0</td>\n",
              "      <td>82.0</td>\n",
              "      <td>18.0</td>\n",
              "      <td>https://www.afcb.co.uk/news/club-news/gender-p...</td>\n",
              "      <td>Neill Blake (Chief Executive Officer)</td>\n",
              "      <td>500 to 999</td>\n",
              "      <td>AFC BOURNEMOUTH LIMITED</td>\n",
              "      <td>False</td>\n",
              "      <td>05/04/2018 00:00:00</td>\n",
              "      <td>29/03/2018 15:01:52</td>\n",
              "    </tr>\n",
              "    <tr>\n",
              "      <th>4026</th>\n",
              "      <td>HARGREAVE HALE LIMITED</td>\n",
              "      <td>41 Lothbury, London, England, EC2R 7AE</td>\n",
              "      <td>03146580</td>\n",
              "      <td>NaN</td>\n",
              "      <td>81.3</td>\n",
              "      <td>63.7</td>\n",
              "      <td>93.1</td>\n",
              "      <td>90.5</td>\n",
              "      <td>91.2</td>\n",
              "      <td>96.0</td>\n",
              "      <td>30.8</td>\n",
              "      <td>69.2</td>\n",
              "      <td>27.3</td>\n",
              "      <td>72.7</td>\n",
              "      <td>54.6</td>\n",
              "      <td>45.4</td>\n",
              "      <td>96.9</td>\n",
              "      <td>3.1</td>\n",
              "      <td>http://www.canaccordgenuity.com/wealth-managem...</td>\n",
              "      <td>Stuart Brookes (Joint Managing Director)</td>\n",
              "      <td>250 to 499</td>\n",
              "      <td>HARGREAVE HALE LIMITED</td>\n",
              "      <td>False</td>\n",
              "      <td>05/04/2018 00:00:00</td>\n",
              "      <td>04/04/2018 14:55:36</td>\n",
              "    </tr>\n",
              "    <tr>\n",
              "      <th>8912</th>\n",
              "      <td>THE ARSENAL FOOTBALL CLUB PUBLIC LIMITED COMPANY</td>\n",
              "      <td>Highbury House, 75 Drayton Park, London, N5 1BU</td>\n",
              "      <td>00109244</td>\n",
              "      <td>93120</td>\n",
              "      <td>79.6</td>\n",
              "      <td>-2.5</td>\n",
              "      <td>92.4</td>\n",
              "      <td>-193.9</td>\n",
              "      <td>64.0</td>\n",
              "      <td>55.0</td>\n",
              "      <td>73.0</td>\n",
              "      <td>27.0</td>\n",
              "      <td>77.0</td>\n",
              "      <td>23.0</td>\n",
              "      <td>72.0</td>\n",
              "      <td>28.0</td>\n",
              "      <td>71.0</td>\n",
              "      <td>29.0</td>\n",
              "      <td>https://www.arsenal.com/sites/default/files/do...</td>\n",
              "      <td>Ivan Gazidis (Chief Executive Officer)</td>\n",
              "      <td>1000 to 4999</td>\n",
              "      <td>THE ARSENAL FOOTBALL CLUB PUBLIC LIMITED COMPANY</td>\n",
              "      <td>False</td>\n",
              "      <td>05/04/2018 00:00:00</td>\n",
              "      <td>29/03/2018 11:56:43</td>\n",
              "    </tr>\n",
              "    <tr>\n",
              "      <th>5230</th>\n",
              "      <td>LEICESTER CITY FOOTBALL CLUB LIMITED</td>\n",
              "      <td>King Power Stadium, Filbert Way, Leicester, Le...</td>\n",
              "      <td>04593477</td>\n",
              "      <td>93199</td>\n",
              "      <td>78.0</td>\n",
              "      <td>0.0</td>\n",
              "      <td>93.0</td>\n",
              "      <td>0.3</td>\n",
              "      <td>78.0</td>\n",
              "      <td>72.0</td>\n",
              "      <td>78.0</td>\n",
              "      <td>22.0</td>\n",
              "      <td>78.0</td>\n",
              "      <td>22.0</td>\n",
              "      <td>70.0</td>\n",
              "      <td>30.0</td>\n",
              "      <td>78.0</td>\n",
              "      <td>22.0</td>\n",
              "      <td>https://pulse-static-files.s3.amazonaws.com/le...</td>\n",
              "      <td>Simon Capper (Company Secretary)</td>\n",
              "      <td>500 to 999</td>\n",
              "      <td>LEICESTER CITY FOOTBALL CLUB LIMITED</td>\n",
              "      <td>False</td>\n",
              "      <td>05/04/2018 00:00:00</td>\n",
              "      <td>29/03/2018 15:39:21</td>\n",
              "    </tr>\n",
              "  </tbody>\n",
              "</table>\n",
              "</div>"
            ],
            "text/plain": [
              "                                            EmployerName  ...        DateSubmitted\n",
              "5952                               MILLWALL HOLDINGS PLC  ...  05/04/2018 13:57:48\n",
              "5972                              MINT PAY SOLUTIONS LTD  ...  02/07/2018 11:30:39\n",
              "8563                    STOKE CITY FOOTBALL CLUB LIMITED  ...  29/03/2018 13:42:37\n",
              "1447    BURNLEY FOOTBALL & ATHLETIC COMPANY,LIMITED(THE)  ...  29/03/2018 14:02:54\n",
              "8668   SWANSEA CITY ASSOCIATION FOOTBALL CLUB LIMITED...  ...  29/03/2018 16:10:08\n",
              "5625               MANCHESTER CITY FOOTBALL CLUB LIMITED  ...  29/03/2018 13:40:49\n",
              "10206              WEST HAM UNITED FOOTBALL CLUB LIMITED  ...  27/04/2018 14:22:35\n",
              "10126     WATFORD ASSOCIATION FOOTBALL CLUB LIMITED(THE)  ...  29/03/2018 14:21:56\n",
              "8622   SUNDERLAND ASSOCIATION FOOTBALL CLUB,LIMITED(THE)  ...  29/03/2018 15:37:10\n",
              "10201         WEST BROMWICH ALBION FOOTBALL CLUB LIMITED  ...  29/03/2018 16:10:22\n",
              "8277                   SOUTHAMPTON FOOTBALL CLUB LIMITED  ...  29/03/2018 06:18:35\n",
              "2302                                        CPFC LIMITED  ...  04/04/2018 09:55:31\n",
              "6279           NEWCASTLE UNITED FOOTBALL COMPANY LIMITED  ...  29/03/2018 14:16:55\n",
              "5917   MIDDLESBROUGH FOOTBALL & ATHLETIC COMPANY (198...  ...  27/03/2018 11:17:45\n",
              "1874                       CHELSEA FOOTBALL CLUB LIMITED  ...  28/03/2019 15:40:31\n",
              "9533       Tottenham Hotspur Football & Athletic Co. Ltd  ...  29/03/2018 14:32:14\n",
              "221                              AFC BOURNEMOUTH LIMITED  ...  29/03/2018 15:01:52\n",
              "4026                              HARGREAVE HALE LIMITED  ...  04/04/2018 14:55:36\n",
              "8912    THE ARSENAL FOOTBALL CLUB PUBLIC LIMITED COMPANY  ...  29/03/2018 11:56:43\n",
              "5230                LEICESTER CITY FOOTBALL CLUB LIMITED  ...  29/03/2018 15:39:21\n",
              "\n",
              "[20 rows x 25 columns]"
            ]
          },
          "metadata": {
            "tags": []
          },
          "execution_count": 56
        }
      ]
    },
    {
      "cell_type": "markdown",
      "metadata": {
        "id": "Y2jVtLyZF322"
      },
      "source": [
        "# Challenge #3\n",
        "Sort your subsets from Challenge #2. Post the top 10 companies/organisations with the highest mean gender pay gap to the padlet: https://padlet.com/hipyliv/rrkuawconk2hbqyb\n",
        "\n"
      ]
    },
    {
      "cell_type": "markdown",
      "metadata": {
        "id": "wcbYArM_Ggsj"
      },
      "source": [
        "# Case Study: Higher Education\n",
        "\n",
        "Now let's take what we've learned so far and apply it to a specific example. Let's look at Universities.\n",
        "\n",
        "Objectives:\n",
        "  + Create a subset of the data that contains ONLY universities.\n",
        "  + Sort the data \n",
        "  + Generate an awesome visualisation to show the top 20 institutions with the highest gender pay gap.\n",
        "\n",
        "hint: SiCCode for HE: 85421"
      ]
    },
    {
      "cell_type": "code",
      "metadata": {
        "id": "kP_s38gbvulB",
        "colab": {
          "base_uri": "https://localhost:8080/",
          "height": 639
        },
        "outputId": "bc16b4a4-2993-408f-b069-bc722d4ad7e7"
      },
      "source": [
        "university = df[df[\"SicCodes\"].str.contains(\"85421\") |\r\n",
        "                df[\"EmployerName\"].str.contains(\"University\", case=False) & \r\n",
        "                (~df[\"EmployerName\"].str.contains(\"Hospital\", case=False) &\r\n",
        "                 ~df[\"EmployerName\"].str.contains(\"Union\", case=False))]\r\n",
        "\r\n",
        "university.sort_values(by=\"DiffMeanHourlyPercent\", ascending=False, inplace=True)\r\n",
        "\r\n",
        "\r\n",
        "\r\n",
        "top20 = university.head(20)\r\n",
        "\r\n",
        "top20.sort_values(by=\"DiffMeanHourlyPercent\", ascending=True, inplace=True)\r\n",
        "\r\n",
        "fig, ax = plt.subplots(figsize=(10, 7))\r\n",
        "\r\n",
        "top20.plot.barh(x=\"EmployerName\", y=\"DiffMeanHourlyPercent\", ax=ax)\r\n",
        "plt.axvline(university.describe().iat[1,0], label=\"average accross sector\", color='r')\r\n",
        "plt.axvline(df.describe().iat[1,0], label=\"UK average (all sectors)\", color='g')"
      ],
      "execution_count": null,
      "outputs": [
        {
          "output_type": "stream",
          "text": [
            "/usr/local/lib/python3.7/dist-packages/ipykernel_launcher.py:6: SettingWithCopyWarning: \n",
            "A value is trying to be set on a copy of a slice from a DataFrame\n",
            "\n",
            "See the caveats in the documentation: https://pandas.pydata.org/pandas-docs/stable/user_guide/indexing.html#returning-a-view-versus-a-copy\n",
            "  \n",
            "/usr/local/lib/python3.7/dist-packages/ipykernel_launcher.py:12: SettingWithCopyWarning: \n",
            "A value is trying to be set on a copy of a slice from a DataFrame\n",
            "\n",
            "See the caveats in the documentation: https://pandas.pydata.org/pandas-docs/stable/user_guide/indexing.html#returning-a-view-versus-a-copy\n",
            "  if sys.path[0] == '':\n"
          ],
          "name": "stderr"
        },
        {
          "output_type": "execute_result",
          "data": {
            "text/plain": [
              "<matplotlib.lines.Line2D at 0x7f3b16b6bc90>"
            ]
          },
          "metadata": {
            "tags": []
          },
          "execution_count": 66
        },
        {
          "output_type": "display_data",
          "data": {
            "image/png": "[encoded data removed]",
            "text/plain": [
              "<Figure size 720x504 with 1 Axes>"
            ]
          },
          "metadata": {
            "tags": [],
            "needs_background": "light"
          }
        }
      ]
    },
    {
      "cell_type": "markdown",
      "metadata": {
        "id": "8EdIrwcdMK3R"
      },
      "source": [
        "# Challenge #4\n",
        "Repeat the case study except for filtered data using a keyword of your choice (e.g. \"bank\", \"nhs\", \"football\")\n",
        "\n",
        "Post your amazing bar charts to the padlet: https://padlet.com/hipyliv/rrkuawconk2hbqyb"
      ]
    },
    {
      "cell_type": "markdown",
      "metadata": {
        "id": "mNo09ziZYeav"
      },
      "source": [
        "# Does it matter who is in charge?\n",
        "\n",
        "To finish off this webinar I'd like to extend our knowledge a bit futher by using Python to perform some very basic statistical tests on our data.\n",
        "\n",
        "Such tests will help us answer very specific questions about our dataset.\n",
        "\n",
        "For example: \"Is the gender pay gap smaller if the person in charge is female?\"\n",
        "\n",
        "Let's translate this question into a testable pair of hypotheses:\n",
        "\n",
        "**H_0 (null hypothesis): \"There is no significant difference in the gender pay gap between companies/organisations that have a woman listed as the responsible person and those that have a male listed.\"**\n",
        "\n",
        "H_1: \"There is no significant difference in the gender pay gap between companies/organisations that have a woman listed as the responsible person and those that have a male listed.\""
      ]
    },
    {
      "cell_type": "code",
      "metadata": {
        "id": "mmv_j4lNMQLF",
        "colab": {
          "base_uri": "https://localhost:8080/",
          "height": 35
        },
        "outputId": "80ddbf3d-1327-443e-fb9b-dea87d7c0976"
      },
      "source": [
        "pip install gender-guesser # run this line"
      ],
      "execution_count": null,
      "outputs": [
        {
          "output_type": "stream",
          "text": [
            "Requirement already satisfied: gender-guesser in /usr/local/lib/python3.6/dist-packages (0.4.0)\n"
          ],
          "name": "stdout"
        }
      ]
    },
    {
      "cell_type": "code",
      "metadata": {
        "id": "kAOknu3jNLI-"
      },
      "source": [
        "# Create a subset that only has rows with data in the ResponsiblePerson column"
      ],
      "execution_count": null,
      "outputs": []
    },
    {
      "cell_type": "code",
      "metadata": {
        "id": "oBQOmk15MdYN"
      },
      "source": [
        "import gender_guesser.detector as gender\n",
        "\n",
        "# Test out the gender guesser module"
      ],
      "execution_count": null,
      "outputs": []
    },
    {
      "cell_type": "code",
      "metadata": {
        "id": "yRSgqNudNEpk"
      },
      "source": [
        "# Use the gender guesser module to decide whether each responsible person\n",
        "# in every row of your subset is male or female based on their first name"
      ],
      "execution_count": null,
      "outputs": []
    },
    {
      "cell_type": "code",
      "metadata": {
        "id": "mXR5r2KFPSdf"
      },
      "source": [
        "# Assign your gender list to each row of your subset dataframe"
      ],
      "execution_count": null,
      "outputs": []
    },
    {
      "cell_type": "code",
      "metadata": {
        "id": "SbjnEyl8Plyn"
      },
      "source": [
        "# How about a boxplot?"
      ],
      "execution_count": null,
      "outputs": []
    },
    {
      "cell_type": "code",
      "metadata": {
        "id": "XJhiBenSUKKo"
      },
      "source": [
        "import scipy.stats as stats\n",
        "\n",
        "# Let's test our null hypothesis using a t-test!\n",
        "# if p-value < 0.05 then reject the null hypothesis (i.e. result is significant)"
      ],
      "execution_count": null,
      "outputs": []
    },
    {
      "cell_type": "markdown",
      "metadata": {
        "id": "ixRyn1SCfqCO"
      },
      "source": [
        "# Challenge #5\n",
        "Test the null hypothesis:\n",
        "\n",
        "**H_0 (null hypothesis): \"There is no significant difference in the gender pay gap between banks that have a woman listed as the responsible person and those that have a male listed.\"**"
      ]
    }
  ]
}